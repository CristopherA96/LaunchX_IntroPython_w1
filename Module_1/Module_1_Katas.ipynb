{
 "cells": [
  {
   "cell_type": "markdown",
   "metadata": {},
   "source": [
    "## **Curso Intro a Python**\n",
    "###### Editor: Cristopher Alan\n",
    "###### Fecha: 05/02/2022\n",
    "### *Modulo 1. Primeros pasos*"
   ]
  },
  {
   "cell_type": "markdown",
   "metadata": {},
   "source": [
    "### **Problema 1:**\n",
    "<p>Como oficial superior se debe crear un programa que <strong>muestre la fecha del día en turno</strong>, ya que la computadora del barco no contaba con esta funcionalidad y es importante tener esa herramienta que permita visualizar la fecha actual.</p>"
   ]
  },
  {
   "cell_type": "code",
   "execution_count": null,
   "metadata": {},
   "outputs": [
    {
     "name": "stdout",
     "output_type": "stream",
     "text": [
      "Método 1:\n",
      "Today's date is:  2022-02-10 \n",
      "\n",
      "Método 2:\n",
      "Today's date is: 2022-02-10\n"
     ]
    }
   ],
   "source": [
    "# Step 1: Importar el módulo date que se encuentra en la biblioteca datetime.\n",
    "from datetime import date \n",
    "\n",
    "# Step 2: Mostrar la fecha de hoy por medio de la función today()\n",
    "print(\"Método 1:\")\n",
    "dateToday = date.today()\n",
    "print(\"Today's date is: \", dateToday, \"\\n\")\n",
    "\n",
    "# Otra forma de hacerlo es simplemente invocando la función y concatenándola\n",
    "# para mantener el mismo tipo de variable.\n",
    "print(\"Método 2:\")\n",
    "print(\"Today's date is: \" + str(date.today()))"
   ]
  },
  {
   "cell_type": "markdown",
   "metadata": {},
   "source": [
    "### **Problema 2:**\n",
    "<p>Como oficial superior se necesita crear otra herramienta que realice la <strong>conversión de unidades parsecs y años luz</strong>.\n",
    "</p>"
   ]
  },
  {
   "cell_type": "code",
   "execution_count": 20,
   "metadata": {},
   "outputs": [
    {
     "name": "stdout",
     "output_type": "stream",
     "text": [
      "Parsec ingresados: 1.0\n",
      "La conversión de  1.0 parsec a años luz es:  3.26156 años luz\n",
      "\n",
      "Años luz ingresados:  1.0\n",
      "La conversión de  1.0 años luz a parsec es:  0.3066017488563755 parsec\n"
     ]
    }
   ],
   "source": [
    "# Step 1: Solicitar al usuario las cantidades parsec.\n",
    "parsec = float(input(\"Ingresa el valor de parsec:\"))\n",
    "print(\"Parsec ingresados:\", parsec)\n",
    "\n",
    "#Metodo 2: el input lo que ingreses así sean números los toma como cadena de caracteres\n",
    "# no es necesario concatenarla para poderla imprimir.\n",
    "#parsec = input(\"Ingresa el valor de parsec:\")\n",
    "#print(\"Parsec ingresados:\" + parsec)\n",
    "\n",
    "# Step 2: Conversión de parsec a años luz. La ecuación que satisface esa condición es:\n",
    "# aniosLuz = parsec * 3.26156\n",
    "parsec_to_aniosLuz = parsec * 3.26156\n",
    "print(\"La conversión de \", parsec, \"parsec a años luz es: \", parsec_to_aniosLuz, \"años luz\\n\")\n",
    "#print(\"La conversión de \" + str(parsec)+\"parsec a años luz es: \"+ str(parsec_to_aniosLuz)+ \"años luz\\n\")\n",
    "\n",
    "aniosLuz = float(input(\"Ingresa el valor de años luz:\"))\n",
    "print(\"Años luz ingresados: \", aniosLuz)\n",
    "\n",
    "#Metodo 2: el input lo que ingreses así sean números los toma como cadena de caracteres\n",
    "#aniosLuz = input(\"Ingresa el valor de años luz:\")\n",
    "#print(\"Años luz ingresados: \" + aniosLuz + \"\\n\")\n",
    "\n",
    "\n",
    "aniosLuz_to_parsec = parsec / 3.26156\n",
    "print(\"La conversión de \", aniosLuz, \"años luz a parsec es: \", aniosLuz_to_parsec, \"parsec\")\n",
    "#print(\"La conversión de \"+ str(aniosLuz)+\"años luz a parsec es: \" + str(aniosLuz_to_parsec)+ \"parsec\")\n"
   ]
  }
 ],
 "metadata": {
  "interpreter": {
   "hash": "f9f85f796d01129d0dd105a088854619f454435301f6ffec2fea96ecbd9be4ac"
  },
  "kernelspec": {
   "display_name": "Python 3.9.5 64-bit",
   "language": "python",
   "name": "python3"
  },
  "language_info": {
   "codemirror_mode": {
    "name": "ipython",
    "version": 3
   },
   "file_extension": ".py",
   "mimetype": "text/x-python",
   "name": "python",
   "nbconvert_exporter": "python",
   "pygments_lexer": "ipython3",
   "version": "3.9.5"
  },
  "orig_nbformat": 4
 },
 "nbformat": 4,
 "nbformat_minor": 2
}
