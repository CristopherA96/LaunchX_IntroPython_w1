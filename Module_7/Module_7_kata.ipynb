{
 "cells": [
  {
   "cell_type": "markdown",
   "metadata": {},
   "source": [
    "## **Curso Intro Python**\n",
    "### Módulo 7: Estructuras de control"
   ]
  },
  {
   "cell_type": "markdown",
   "metadata": {},
   "source": [
    "#### **Problema 1:** Uso de ciclos while\n",
    "Se solicita crear una aplicación que pida a un usuario que ingrese una lista de planetas."
   ]
  },
  {
   "cell_type": "code",
   "execution_count": 5,
   "metadata": {},
   "outputs": [
    {
     "name": "stdout",
     "output_type": "stream",
     "text": [
      "Los valores ingresados a la lista son: ['Marte', 'Tierra', 'Venus']\n"
     ]
    }
   ],
   "source": [
    "# Step 1: Declarar variables para la entrada del usuario y la lista de los planetas.\n",
    "new_planet = \"\"         \n",
    "planets = []            # Lista vacía\n",
    "\n",
    "# Step 2: Crear ciclo while\n",
    "while (new_planet != \"done\"):\n",
    "    if new_planet:                                              # Verificando que new_planet tenga un valor el cual fue ingresado por el usuario, y si lo tiene\n",
    "        planets.append(new_planet)                              # que lo agregue al final de la lista de planetas.\n",
    "    new_planet = input(\"Por favor, ingresa un nuevo planeta\")   # de lo contrario que ingrese un nuevo planeta o algo (puede ser done para que no entre al ciclo.) \n",
    "# Cabe mencionar que el ciclo while termina hasta que se escribe la palabra done.\n",
    "print(\"Los valores ingresados a la lista son:\", planets)"
   ]
  },
  {
   "cell_type": "markdown",
   "metadata": {},
   "source": [
    "#### **Problema 2:** Crear ciclo for para lista\n",
    "Ahora, se pide que se muestre la lista de valores ingresados por parte del usuario.\n"
   ]
  },
  {
   "cell_type": "code",
   "execution_count": 8,
   "metadata": {},
   "outputs": [
    {
     "name": "stdout",
     "output_type": "stream",
     "text": [
      "El elemento  Marte de la lista está en la posición 0\n",
      "El elemento  Tierra de la lista está en la posición 1\n",
      "El elemento  Venus de la lista está en la posición 2\n"
     ]
    }
   ],
   "source": [
    "# Step 1: Crear ciclo for para recorrer cada elemento de la lista para imprimirlo\n",
    "# en pantalla.\n",
    "for i_planet in planets:\n",
    "    print(\"El elemento \", i_planet, \"de la lista está en la posición\", planets.index(i_planet))"
   ]
  }
 ],
 "metadata": {
  "interpreter": {
   "hash": "31f2aee4e71d21fbe5cf8b01ff0e069b9275f58929596ceb00d14d90e3e16cd6"
  },
  "kernelspec": {
   "display_name": "Python 3.8.10 64-bit",
   "language": "python",
   "name": "python3"
  },
  "language_info": {
   "codemirror_mode": {
    "name": "ipython",
    "version": 3
   },
   "file_extension": ".py",
   "mimetype": "text/x-python",
   "name": "python",
   "nbconvert_exporter": "python",
   "pygments_lexer": "ipython3",
   "version": "3.8.10"
  },
  "orig_nbformat": 4
 },
 "nbformat": 4,
 "nbformat_minor": 2
}
