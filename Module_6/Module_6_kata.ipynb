{
 "cells": [
  {
   "cell_type": "markdown",
   "metadata": {},
   "source": [
    "## **Curso Intro Python**\n",
    "\n",
    "##### Editor: Cristopher Alan\n",
    "##### Fecha: 07/02/2022"
   ]
  },
  {
   "cell_type": "markdown",
   "metadata": {},
   "source": [
    "### Módulo 6: Crear y usar listas de Python\n",
    "\n",
    "#### **Problema 1:**\n",
    "Se solicita crear un programa para almacenar varios nombres de planetas en una lista."
   ]
  },
  {
   "cell_type": "code",
   "execution_count": 4,
   "metadata": {},
   "outputs": [
    {
     "name": "stdout",
     "output_type": "stream",
     "text": [
      "Los nombres de los planetas en la lista son: ['Mercurio', 'Venus', 'Tierra', 'Marte', 'Júpiter', 'Saturno', 'Urano', 'Neptuno']\n"
     ]
    }
   ],
   "source": [
    "# Step 1: Crear lista de los nombres de los planetas del sistema solar\n",
    "# La lista se identifica por los corchetes []\n",
    "nombresPlanetas = [\"Mercurio\", \"Venus\", \"Tierra\", \"Marte\", \"Júpiter\", \"Saturno\", \"Urano\", \"Neptuno\"]\n",
    "#nombresPlanetas\n",
    "print(\"Los nombres de los planetas en la lista son:\", nombresPlanetas)"
   ]
  },
  {
   "cell_type": "code",
   "execution_count": 12,
   "metadata": {},
   "outputs": [
    {
     "name": "stdout",
     "output_type": "stream",
     "text": [
      "La lista de los planetas habiendo agregado a Plutón es: ['Mercurio', 'Venus', 'Tierra', 'Marte', 'Júpiter', 'Saturno', 'Urano', 'Neptuno', 'Plutón']\n",
      "El número de planetas en la lista es: 9\n",
      "El último elemento de la lista de planetas es: Plutón\n"
     ]
    }
   ],
   "source": [
    "# Step 2: Agregar a la lista a Plutón por medio de la función append(). Al utilizar \n",
    "# la función append está agrega en la última posición de la lista el nuevo valor.\n",
    "nombresPlanetas.append(\"Plutón\")\n",
    "print(\"La lista de los planetas habiendo agregado a Plutón es:\", nombresPlanetas)\n",
    "\n",
    "# Step 3: Imprimir el número de planetas y el último elemento de la lista. El último\n",
    "# valor en la lista se puede acceder por medio del valor -1.\n",
    "print(\"El número de planetas en la lista es:\", len(nombresPlanetas))\n",
    "print(\"El último elemento de la lista de planetas es:\", nombresPlanetas[-1])\n"
   ]
  },
  {
   "cell_type": "markdown",
   "metadata": {},
   "source": [
    "#### **Problema 2:**\n",
    "Se solicita crear un programa para que nos indique si un planeta está cerca o lejos del sol.\n"
   ]
  },
  {
   "cell_type": "code",
   "execution_count": 14,
   "metadata": {},
   "outputs": [
    {
     "name": "stdout",
     "output_type": "stream",
     "text": [
      "Los nombres de los planetas en la lista son: ['Mercurio', 'Venus', 'Tierra', 'Marte', 'Júpiter', 'Saturno', 'Urano', 'Neptuno']\n"
     ]
    }
   ],
   "source": [
    "# Step 1: Crear la lista de los nombres de planetas.\n",
    "planetsName = [\"Mercurio\", \"Venus\", \"Tierra\", \"Marte\", \"Júpiter\", \"Saturno\", \"Urano\", \"Neptuno\"]\n",
    "#nombresPlanetas\n",
    "print(\"Los nombres de los planetas en la lista son:\", planetsName)"
   ]
  },
  {
   "cell_type": "code",
   "execution_count": 15,
   "metadata": {},
   "outputs": [
    {
     "name": "stdout",
     "output_type": "stream",
     "text": [
      "Planeta ingresado: Tierra\n"
     ]
    }
   ],
   "source": [
    "# Step 2: Solicitar el ingreso de un planeta.\n",
    "inPlanet = input(\"Ingresa el nombre de un planeta:\")\n",
    "print(\"Planeta ingresado:\", inPlanet)\n"
   ]
  },
  {
   "cell_type": "code",
   "execution_count": 20,
   "metadata": {},
   "outputs": [
    {
     "name": "stdout",
     "output_type": "stream",
     "text": [
      "El planeta Tierra se encuentra en la lista ['Mercurio', 'Venus', 'Tierra', 'Marte', 'Júpiter', 'Saturno', 'Urano', 'Neptuno']\n",
      "Y se encuentra en la posición 2 empezando desde cero.\n"
     ]
    }
   ],
   "source": [
    "# Step 3: Buscar el planeta ingresado en la lista\n",
    "# Esto se puede hacer por medio de la función index, que nos indicará la posición en la\n",
    "# lista del planeta ingresado en caso de existir.\n",
    "if inPlanet in planetsName:\n",
    "    print(f\"El planeta {inPlanet} se encuentra en la lista {planetsName}\")\n",
    "    print(\"Y se encuentra en la posición\", planetsName.index(inPlanet), \"empezando desde cero.\")\n",
    "else:\n",
    "    print(f\"El planeta {inPlanet} no se encuentra en la lista\")"
   ]
  },
  {
   "cell_type": "code",
   "execution_count": 25,
   "metadata": {},
   "outputs": [
    {
     "name": "stdout",
     "output_type": "stream",
     "text": [
      "Los planetas más cercanos al Sol que Tierra son ['Mercurio', 'Venus']\n"
     ]
    }
   ],
   "source": [
    "# Step 4: Mostrar los planetas más cercanos al Sol que el ingresado.\n",
    "# Para saber qué planetas son los más cercanos al sol se considera de 0 al índice del\n",
    "# planeta ingresado. 0:2, este intervalo va de 0 a 2 pero sin tocar a 2 (Tierra).\n",
    "# Por eso Tierra no se muestra en la impresión.\n",
    "print(\"Los planetas más cercanos al Sol que\", inPlanet, \"son\", planetsName[0:planetsName.index(inPlanet)])"
   ]
  },
  {
   "cell_type": "code",
   "execution_count": 33,
   "metadata": {},
   "outputs": [
    {
     "name": "stdout",
     "output_type": "stream",
     "text": [
      "Los planetas más lejanos al Sol que Tierra son ['Marte', 'Júpiter', 'Saturno', 'Urano', 'Neptuno']\n"
     ]
    }
   ],
   "source": [
    "# Step 5: Mostrar los planetas más lejanos al Sol que el ingresado.\n",
    "# Para saber qué planeta son los más lejanos al Sol se considera \n",
    "# empezar el intervalo desde el planeta ingresado + 1, ya que \n",
    "# si no se agrega el 1 el intervalo va a tomar el valor ingresado (Tierra, en este caso),\n",
    "# y hasta el último elemento en la lista, se indica solo con poner index+1:\n",
    "print(\"Los planetas más lejanos al Sol que\", inPlanet, \"son\", planetsName[planetsName.index(inPlanet)+1:])"
   ]
  }
 ],
 "metadata": {
  "interpreter": {
   "hash": "31f2aee4e71d21fbe5cf8b01ff0e069b9275f58929596ceb00d14d90e3e16cd6"
  },
  "kernelspec": {
   "display_name": "Python 3.8.10 64-bit",
   "language": "python",
   "name": "python3"
  },
  "language_info": {
   "codemirror_mode": {
    "name": "ipython",
    "version": 3
   },
   "file_extension": ".py",
   "mimetype": "text/x-python",
   "name": "python",
   "nbconvert_exporter": "python",
   "pygments_lexer": "ipython3",
   "version": "3.8.10"
  },
  "orig_nbformat": 4
 },
 "nbformat": 4,
 "nbformat_minor": 2
}
