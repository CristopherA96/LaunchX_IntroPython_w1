{
 "cells": [
  {
   "cell_type": "markdown",
   "metadata": {},
   "source": [
    "## **Curso Intro Python**\n",
    "### Módulo 8: Administrar datos con diccionarios"
   ]
  },
  {
   "cell_type": "markdown",
   "metadata": {},
   "source": [
    "#### **Problema 1:** Creación de diccionarios de Python\n",
    "Se solicita crear un diccionario que almacene la información sobre el planeta Marte."
   ]
  },
  {
   "cell_type": "code",
   "execution_count": 7,
   "metadata": {},
   "outputs": [
    {
     "name": "stdout",
     "output_type": "stream",
     "text": [
      "El nombre es Mars las lunas que tiene son 2\n",
      "El nombre es Mars las lunas que tiene son 2\n",
      "El nombre es Mars las lunas que tiene son 2\n"
     ]
    }
   ],
   "source": [
    "# Step 1: Crear diccionario llamado planet\n",
    "planet = {\n",
    "    'name': 'Mars',\n",
    "    'moons': 2\n",
    "}\n",
    "\n",
    "# Step 2: Mostrar el contenido del diccionario por medio de la función get()\n",
    "print(\"El nombre es\", planet.get('name'), \"las lunas que tiene son\", planet.get('moons'))\n",
    "\n",
    "# Step 2.1 : Mostrar el contenido del diccionario por medio del uso de [ ]\n",
    "print(\"El nombre es\", planet['name'], \"las lunas que tiene son\", planet['moons'])\n",
    "\n",
    "print(f\"El nombre es {planet.get('name')} las lunas que tiene son {planet.get('moons')}\")\n"
   ]
  },
  {
   "cell_type": "code",
   "execution_count": 11,
   "metadata": {},
   "outputs": [
    {
     "name": "stdout",
     "output_type": "stream",
     "text": [
      "El planeta es Mars y su circunferencia polar es 6752\n",
      "El planeta es Mars y su circunferencia polar es 6752\n",
      "El planeta es Mars y su circunferencia polar es 6752\n",
      "El planeta es Mars y su circunferencia polar es 6752\n"
     ]
    }
   ],
   "source": [
    "# Step 3: Agregando una nueva clave al diccionario\n",
    "planet['circunferencia (km)'] = {\n",
    "    'polar': 6752,\n",
    "    'equatorial': 6792 \n",
    "}\n",
    "\n",
    "# Step 4: Imprimir el nombre del planeta con su circunferencia polar\n",
    "print(\"El planeta es\", planet.get('name'), \"y su circunferencia polar es\", planet.get('circunferencia (km)').get('polar'))\n",
    "\n",
    "print(\"El planeta es\", planet['name'], \"y su circunferencia polar es\", planet['circunferencia (km)']['polar'])\n",
    "\n",
    "print(f\"El planeta es {planet.get('name')} y su circunferencia polar es {planet.get('circunferencia (km)').get('polar')}\")\n",
    "\n",
    "print(f\"El planeta es {planet['name']} y su circunferencia polar es {planet['circunferencia (km)']['polar']}\")"
   ]
  },
  {
   "cell_type": "markdown",
   "metadata": {},
   "source": [
    "#### **Problema 2:** Programación dinámica con diccionarios\n",
    "Se solicita calcular el número total de lunas en el sistema solar como el número promedio de lunas que tiene un planeta."
   ]
  },
  {
   "cell_type": "code",
   "execution_count": 13,
   "metadata": {},
   "outputs": [
    {
     "name": "stdout",
     "output_type": "stream",
     "text": [
      "Valores del diccionario dict_values([0, 0, 1, 2, 79, 82, 27, 14, 5, 2, 1, 1])\n",
      "Número de planetas 12\n"
     ]
    }
   ],
   "source": [
    "# Step 1: Crear diccionario de lunas para cada planeta\n",
    "planet_moons = {\n",
    "    'mercury': 0,\n",
    "    'venus': 0,\n",
    "    'earth': 1,\n",
    "    'mars': 2,\n",
    "    'jupiter': 79,\n",
    "    'saturn': 82,\n",
    "    'uranus': 27,\n",
    "    'neptune': 14,\n",
    "    'pluto': 5,\n",
    "    'haumea': 2,\n",
    "    'makemake': 1,\n",
    "    'eris': 1\n",
    "}\n",
    "\n",
    "# Step 2: Almacenar los valores del diccionario de planet_moons\n",
    "# para poder iterar sobre ella.\n",
    "moons = planet_moons.values()\n",
    "print(\"Valores del diccionario\", moons)\n",
    "\n",
    "# Step 3: Almacenar el número de planetas. Para ello usamos la función len\n",
    "planets = len(planet_moons.keys())\n",
    "print(\"Número de planetas\", planets)\n",
    "\n"
   ]
  },
  {
   "cell_type": "code",
   "execution_count": 16,
   "metadata": {},
   "outputs": [
    {
     "name": "stdout",
     "output_type": "stream",
     "text": [
      "El promedio de lunas en el sistema solar es 17.833333333333332 redondeado sería 18\n"
     ]
    }
   ],
   "source": [
    "# Step 4: Determinar el número total de lunas \n",
    "totalMoons = 0\n",
    "\n",
    "# Se itera sobre la lista de valores extraídos del diccionario\n",
    "# for moon in planet_moons.values(): se descomentaría si no se hubiera creado la variable\n",
    "# moons que almacena los valores del diccionario en una lista.\n",
    "for moon in moons:\n",
    "    totalMoons = totalMoons + moon\n",
    "\n",
    "# Step 5: Calcula el promedio\n",
    "avg = totalMoons/planets\n",
    "\n",
    "# Step 6: Muestra en pantalla los resultados\n",
    "print(\"El promedio de lunas en el sistema solar es\", avg, \"redondeado sería\", round(avg))\n"
   ]
  }
 ],
 "metadata": {
  "interpreter": {
   "hash": "31f2aee4e71d21fbe5cf8b01ff0e069b9275f58929596ceb00d14d90e3e16cd6"
  },
  "kernelspec": {
   "display_name": "Python 3.8.10 64-bit",
   "language": "python",
   "name": "python3"
  },
  "language_info": {
   "codemirror_mode": {
    "name": "ipython",
    "version": 3
   },
   "file_extension": ".py",
   "mimetype": "text/x-python",
   "name": "python",
   "nbconvert_exporter": "python",
   "pygments_lexer": "ipython3",
   "version": "3.8.10"
  },
  "orig_nbformat": 4
 },
 "nbformat": 4,
 "nbformat_minor": 2
}
