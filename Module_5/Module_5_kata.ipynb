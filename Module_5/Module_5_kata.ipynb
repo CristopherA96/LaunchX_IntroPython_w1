{
 "cells": [
  {
   "cell_type": "markdown",
   "metadata": {},
   "source": [
    "## **Curso Intro Python**\n",
    "\n",
    "##### Editor: Cristopher Alan\n",
    "##### Fecha: 07/02/2022"
   ]
  },
  {
   "cell_type": "markdown",
   "metadata": {},
   "source": [
    "### Módulo 5: Utilizar operadores aritméticos\n",
    "\n",
    "#### **Problema 1:**\n",
    "Se solicita un programa que le pida al usuario ingresar las distancias del Sol para dos planetas. Asimismo, se debe calcular la diferencia entre las dos distancias. "
   ]
  },
  {
   "cell_type": "code",
   "execution_count": 30,
   "metadata": {},
   "outputs": [
    {
     "name": "stdout",
     "output_type": "stream",
     "text": [
      "Distancia del primer planeta Tierra 149597870.0 [km]\n",
      "Distancia del segundo planeta Jupiter 778547200.0 [km]\n"
     ]
    }
   ],
   "source": [
    "# Step 1: Solicitar al usuario las distancias de los dos planetas con respecto al Sol.\n",
    "planeta1Nombre = input(\"Ingresa el nombre del primer planeta\")\n",
    "distanciaSol_Planeta1 = float(input(f\"Ingresa la distancia para el primer planeta {planeta1Nombre} en km.\"))\n",
    "print(\"Distancia del primer planeta\", planeta1Nombre, distanciaSol_Planeta1, \"[km]\")\n",
    "\n",
    "planeta2Nombre = input(\"Ingresa el nombre del segundo planeta\")\n",
    "distanciaSol_Planeta2 = float(input(f\"Ingresa la distancia para el segundo planeta {planeta2Nombre} en km.\"))\n",
    "print(\"Distancia del segundo planeta\", planeta2Nombre, distanciaSol_Planeta2, \"[km]\")"
   ]
  },
  {
   "cell_type": "code",
   "execution_count": 21,
   "metadata": {},
   "outputs": [
    {
     "name": "stdout",
     "output_type": "stream",
     "text": [
      "La distancia en km entre ambos planetas es: 628949330.0 [km]\n",
      "La distancia en millas entre ambos planetas es: 390577533.93 [millas]\n"
     ]
    }
   ],
   "source": [
    "# Step 2: Realizar los cálculos para saber la distancia entre planetas.\n",
    "# En kilómetros\n",
    "distanciaDiff_km = (distanciaSol_Planeta2 - distanciaSol_Planeta1)\n",
    "print(\"La distancia en km entre ambos planetas es:\", distanciaDiff_km, \"[km]\")\n",
    "\n",
    "# En millas\n",
    "distanciaDiff_millas = (distanciaSol_Planeta2 - distanciaSol_Planeta1)*0.621\n",
    "print(\"La distancia en millas entre ambos planetas es:\", distanciaDiff_millas, \"[millas]\")\n"
   ]
  },
  {
   "cell_type": "markdown",
   "metadata": {},
   "source": [
    "#### **Problema 2:**\n",
    "Se solicita crear un programa que convierta las cadenas en números para poder hacer las operaciones, de lo contrario no se podrán realizar por el diferente tipo."
   ]
  },
  {
   "cell_type": "code",
   "execution_count": 31,
   "metadata": {},
   "outputs": [
    {
     "name": "stdout",
     "output_type": "stream",
     "text": [
      "Cadena ingresada para distancia del planeta 1: 149597870 de tipo <class 'str'>\n",
      "Cadena ingresada para distancia del planeta 2: 778547200 de tipo <class 'str'>\n",
      "Cadena convertida a números enteros, ingresado para distancia del planeta 1: 149597870 de tipo <class 'int'>\n",
      "Cadena convertida a números enteros, ingresado para distancia del planeta 2: 778547200 de tipo <class 'int'>\n"
     ]
    }
   ],
   "source": [
    "# Step 1: Solicitar la entrada de la cadena por medio de la función input()\n",
    "stringPlaneta1 = input(\"Ingresa la distancia del Sol al primer planeta en km.\")\n",
    "print(\"Cadena ingresada para distancia del planeta 1:\", stringPlaneta1, \"de tipo\", type(stringPlaneta1))\n",
    "stringPlaneta2 = input(\"Ingresa la distancia del Sol al segundo planeta en km.\")\n",
    "print(\"Cadena ingresada para distancia del planeta 2:\", stringPlaneta2, \"de tipo\", type(stringPlaneta2))\n",
    "# Step 2: Convertir la distancia ingresa que es una cadena de caracteres a números.\n",
    "# Se pudó a ver hecho desde que se solicitó el ingreso de datos por medio de input.\n",
    "# Tal y como se hizo en el problema 1. Pero considerando que no se hace ahí, entonces\n",
    "# sería.\n",
    "intPlaneta1 = int(stringPlaneta1)\n",
    "print(\"Cadena convertida a números enteros, ingresado para distancia del planeta 1:\", intPlaneta1, \"de tipo\", type(intPlaneta1))\n",
    "intPlaneta2 = int(stringPlaneta2)\n",
    "print(\"Cadena convertida a números enteros, ingresado para distancia del planeta 2:\", intPlaneta2, \"de tipo\", type(intPlaneta2))"
   ]
  },
  {
   "cell_type": "code",
   "execution_count": 36,
   "metadata": {},
   "outputs": [
    {
     "name": "stdout",
     "output_type": "stream",
     "text": [
      "La distancia en km entre ambos planetas es: 628949330 [km]\n",
      "La distancia en millas entre ambos planetas es: 390577534 [millas]\n"
     ]
    }
   ],
   "source": [
    "# Step 3: Realizar los cálculos para saber la distancia que hay entre ambos planetas.\n",
    "\n",
    "# En kilómetros\n",
    "distanciaKm = abs((intPlaneta2 - intPlaneta1))\n",
    "print(\"La distancia en km entre ambos planetas es:\", distanciaKm, \"[km]\")\n",
    "\n",
    "# En millas\n",
    "distanciaMillas = round(abs((intPlaneta2 - intPlaneta1)*0.621))\n",
    "print(\"La distancia en millas entre ambos planetas es:\", distanciaMillas, \"[millas]\")"
   ]
  }
 ],
 "metadata": {
  "interpreter": {
   "hash": "31f2aee4e71d21fbe5cf8b01ff0e069b9275f58929596ceb00d14d90e3e16cd6"
  },
  "kernelspec": {
   "display_name": "Python 3.8.10 64-bit",
   "language": "python",
   "name": "python3"
  },
  "language_info": {
   "codemirror_mode": {
    "name": "ipython",
    "version": 3
   },
   "file_extension": ".py",
   "mimetype": "text/x-python",
   "name": "python",
   "nbconvert_exporter": "python",
   "pygments_lexer": "ipython3",
   "version": "3.8.10"
  },
  "orig_nbformat": 4
 },
 "nbformat": 4,
 "nbformat_minor": 2
}
