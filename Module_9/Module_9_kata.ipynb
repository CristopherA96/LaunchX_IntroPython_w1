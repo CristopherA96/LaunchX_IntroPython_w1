{
 "cells": [
  {
   "cell_type": "markdown",
   "metadata": {},
   "source": [
    "## **Curso Intro Python**\n",
    "### Módulo 9: Funciones\n",
    "#### Parte 1: Trabajar con argumentos de funciones"
   ]
  },
  {
   "cell_type": "markdown",
   "metadata": {},
   "source": [
    "#### **Problema 1:**\n",
    "Se solicita crear un informe de combustible que requiere información de varias ubicaciones de combustible en todo el cohete."
   ]
  },
  {
   "cell_type": "code",
   "execution_count": 6,
   "metadata": {},
   "outputs": [
    {
     "name": "stdout",
     "output_type": "stream",
     "text": [
      "El reporte de combustible es: \n",
      " Reporte de Combustible \n",
      " Tanque 1: 1230 \n",
      " Tanque 2: 2304 \n",
      " Tanque 3: 4320 \n",
      " Promedio de combustible: 2618.0\n"
     ]
    }
   ],
   "source": [
    "# Step 1: Crear función para lectura de combustibles para mostrar el promedio en\n",
    "# un reporte.\n",
    "def lectura_combustible (tCombustible1, tCombustible2, tCombustible3):\n",
    "    avg = (tCombustible1 + tCombustible2 + tCombustible3)/3\n",
    "    #return (\"Reporte de Combustible \\n\", \"Tanque 1:\", tCombustible1, \"\\nTanque 2:\", tCombustible2, \"\\nTanque 3:\", tCombustible3, \"\\nPromedio de combustible:\",avg)\n",
    "    return (f\"Reporte de Combustible \\n Tanque 1: {tCombustible1} \\n Tanque 2: {tCombustible2} \\n Tanque 3: {tCombustible3} \\n Promedio de combustible: {avg}\")\n",
    "\n",
    "# Step 2: Imprimir el reporte de combustible de 3 fuentes de combustible\n",
    "print(\"El reporte de combustible es: \\n\", lectura_combustible(1230, 2304, 4320))"
   ]
  },
  {
   "cell_type": "markdown",
   "metadata": {},
   "source": [
    "#### **Problema 2:**\n",
    "Aparte de crear el reporte se pide crear una función para calcular el promedio de forma independiente."
   ]
  },
  {
   "cell_type": "code",
   "execution_count": 12,
   "metadata": {},
   "outputs": [
    {
     "name": "stdout",
     "output_type": "stream",
     "text": [
      "El promedio de combustible es: 4498.4\n"
     ]
    }
   ],
   "source": [
    "# Step 1: Crear función general que calcula el promedio de combustible de manera general, \n",
    "# ingresando un set de valores que se almacenan en una lista.\n",
    "def promedio_combustible (vTanques):\n",
    "    # Calcular el promedio de manera general para n cantidad de valores de combustible,\n",
    "    # utilizando la función suma que sumará esos valores y los dividirá entre el número\n",
    "    # de elementos o valores de combustibles ingresados.\n",
    "    avgCombustible = sum(vTanques)/len(vTanques)\n",
    "    return avgCombustible\n",
    "\n",
    "print(\"El promedio de combustible es:\", promedio_combustible([1230, 1320, 3420, 8920, 7602]))"
   ]
  },
  {
   "cell_type": "markdown",
   "metadata": {},
   "source": [
    "#### **Problema 3:**\n",
    "Actualizar la función lectura_combustible que genera el reporte sobre el combustible."
   ]
  },
  {
   "cell_type": "code",
   "execution_count": 22,
   "metadata": {},
   "outputs": [
    {
     "name": "stdout",
     "output_type": "stream",
     "text": [
      "El reporte de combustible es: \n",
      " Reporte de Combustible \n",
      " Tanque 1: 20 \n",
      " Tanque 2: 1230 \n",
      " Tanque 3: 3420 \n",
      " Promedio de combustible: 1556.6666666666667\n"
     ]
    }
   ],
   "source": [
    "# Step 1: Actualizando la función para que sea más general.\n",
    "def lectura_combustible(vTanques):\n",
    "    return (f\"Reporte de Combustible \\n Tanque 1: {vTanques[0]} \\n Tanque 2: {vTanques[1]} \\n Tanque 3: {vTanques[2]} \\n Promedio de combustible: {promedio_combustible(vTanques)}\")\n",
    "\n",
    "# Step 2: Imprimir el reporte de combustible de 3 fuentes de combustible\n",
    "print(\"El reporte de combustible es: \\n\", lectura_combustible([20, 1230, 3420]))\n"
   ]
  },
  {
   "cell_type": "markdown",
   "metadata": {},
   "source": [
    "### Parte 2: Trabajar con argumentos de palabra clave en funciones\n",
    "#### **Problema 4:**\n",
    "Se solicita construir un informe de cohete que require varias piezas de información como el tiempo hasta el destino, el combustible a la izquierda y el nombre del destino."
   ]
  },
  {
   "cell_type": "code",
   "execution_count": 25,
   "metadata": {},
   "outputs": [
    {
     "name": "stdout",
     "output_type": "stream",
     "text": [
      "El informe sobre el cohete es: INFORME DEL COHETE \n",
      " Tanque Interno: 5305 \n",
      " Tanque Externo: 2340 \n",
      " Destino: Júpiter \n",
      " Hora de pre-lanzamiento: 22:10:12 \n",
      " Hora de vuelo: 23 horas\n"
     ]
    }
   ],
   "source": [
    "# Step 1: Crear función que cree el informe:\n",
    "def crea_informe (prelanzamientoTime, vueloTime, destino, tanqueExt, tanqueInt):\n",
    "    return (f\"INFORME DEL COHETE \\n Tanque Interno: {tanqueInt} \\n Tanque Externo: {tanqueExt} \\n Destino: {destino} \\n Hora de pre-lanzamiento: {prelanzamientoTime} \\n Hora de vuelo: {vueloTime}\")\n",
    "\n",
    "print(\"El informe sobre el cohete es:\", crea_informe(\"22:10:12\", \"23 horas\", \"Júpiter\", 2340, 5305))"
   ]
  },
  {
   "cell_type": "markdown",
   "metadata": {},
   "source": [
    "#### **Problema 5:**\n",
    "Se solicita construir un informe de cohete pero que la función que lo genera sea adaptativa."
   ]
  },
  {
   "cell_type": "code",
   "execution_count": 44,
   "metadata": {},
   "outputs": [
    {
     "name": "stdout",
     "output_type": "stream",
     "text": [
      "El informe sobre el cohete es: INFORME DEL COHETE \n",
      " Tanque Externo: 340 \n",
      " Tanque interno: 5305 \n",
      " Combustible total: 5645 \n",
      " Destino: Júpiter \n",
      " Tiempo de vuelo: 45 minutos \n",
      " Hora: 23 \n",
      " Minutos: 12 \n",
      " Segundos 10\n"
     ]
    }
   ],
   "source": [
    "# Step 1: Crear función que genera el informe del cohete con argumentos adaptables.\n",
    "def crea_informe(destino, *time, **tanquesCombustible):\n",
    "    return (f\"INFORME DEL COHETE \\n Tanque Externo: {tanquesCombustible['text']} \\n Tanque interno: {tanquesCombustible['tint']} \\n Combustible total: {sum(tanquesCombustible.values())} \\n Destino: {destino} \\n Tiempo de vuelo: {sum(time)} minutos \\n Hora: {time[0]} \\n Minutos: {time[1]} \\n Segundos {time[2]}\")\n",
    "\n",
    "print(\"El informe sobre el cohete es:\", crea_informe(\"Júpiter\", 23, 12, 10, text=340, tint=5305))\n",
    "    \n"
   ]
  },
  {
   "cell_type": "markdown",
   "metadata": {},
   "source": [
    "#### **Problema 6:**\n",
    "Ahora, se solicita actualizar la función anterior para usar el nombre de cada tanque en el informe."
   ]
  },
  {
   "cell_type": "code",
   "execution_count": 50,
   "metadata": {},
   "outputs": [
    {
     "name": "stdout",
     "output_type": "stream",
     "text": [
      "El informe sobre el cohete es: INFORME DEL COHETE \n",
      " Combustible total: 5645 \n",
      " Destino: Júpiter \n",
      " Tiempo de vuelo: 45 minutos \n",
      " Hora: 23 \n",
      " Minutos: 12 \n",
      " Segundos 10\n",
      " Nombre del tanque: Tanque_Ext \n",
      " Cantidad de combustible 340\n",
      " Nombre del tanque: Tanque_Int \n",
      " Cantidad de combustible 5305\n"
     ]
    }
   ],
   "source": [
    "# Step 1: Actualizar la función para utilizar el nombre de cada tanque.\n",
    "# Algo similar hicé arriba accediendo al key en el diccionario del combustible, pero \n",
    "# considerando otra opción.\n",
    "def crea_informe(destino, *time, **tanquesCombustible):\n",
    "    informe = (f\"INFORME DEL COHETE \\n Combustible total: {sum(tanquesCombustible.values())} \\n Destino: {destino} \\n Tiempo de vuelo: {sum(time)} minutos \\n Hora: {time[0]} \\n Minutos: {time[1]} \\n Segundos {time[2]}\")\n",
    "\n",
    "    for keyTanque, keyCantidad in tanquesCombustible.items():\n",
    "        informe += (f\"\\n Nombre del tanque: {keyTanque} \\n Cantidad de combustible {keyCantidad}\")\n",
    "    return informe\n",
    "\n",
    "print(\"El informe sobre el cohete es:\", crea_informe(\"Júpiter\", 23, 12, 10, Tanque_Ext=340, Tanque_Int=5305))\n"
   ]
  }
 ],
 "metadata": {
  "interpreter": {
   "hash": "31f2aee4e71d21fbe5cf8b01ff0e069b9275f58929596ceb00d14d90e3e16cd6"
  },
  "kernelspec": {
   "display_name": "Python 3.8.10 64-bit",
   "language": "python",
   "name": "python3"
  },
  "language_info": {
   "codemirror_mode": {
    "name": "ipython",
    "version": 3
   },
   "file_extension": ".py",
   "mimetype": "text/x-python",
   "name": "python",
   "nbconvert_exporter": "python",
   "pygments_lexer": "ipython3",
   "version": "3.8.10"
  },
  "orig_nbformat": 4
 },
 "nbformat": 4,
 "nbformat_minor": 2
}
