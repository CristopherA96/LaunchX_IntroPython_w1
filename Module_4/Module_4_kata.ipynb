{
 "cells": [
  {
   "cell_type": "markdown",
   "metadata": {},
   "source": [
    "## **Curso Intro Python**\n",
    "\n",
    "##### Editor: Cristopher Alan\n",
    "##### Fecha: 07/02/2022"
   ]
  },
  {
   "cell_type": "markdown",
   "metadata": {},
   "source": [
    "### Módulo 4: Cadenas\n",
    "\n",
    "#### **Problema 1: Transformar cadenas**"
   ]
  },
  {
   "cell_type": "code",
   "execution_count": 1,
   "metadata": {},
   "outputs": [
    {
     "data": {
      "text/plain": [
       "['Interesting facts about the Moon',\n",
       " \"The Moon is Earth's only satellite\",\n",
       " 'There are several interesting facts about the Moon and how it affects life here on Earth',\n",
       " '\\nOn average, the Moon moves 4cm away from the Earth every year',\n",
       " 'This yearly drift is not significant enough to cause immediate effects on Earth',\n",
       " 'The highest daylight temperature of the Moon is 127 C.']"
      ]
     },
     "execution_count": 1,
     "metadata": {},
     "output_type": "execute_result"
    }
   ],
   "source": [
    "# Step 0: Declarar la cadena a transformar\n",
    "textString = \"\"\"Interesting facts about the Moon. The Moon is Earth's only satellite. There are several interesting facts about the Moon and how it affects life here on Earth. \n",
    "On average, the Moon moves 4cm away from the Earth every year. This yearly drift is not significant enough to cause immediate effects on Earth. The highest daylight temperature of the Moon is 127 C.\"\"\"\n",
    "\n",
    "# Step 1: Dividir el texto en cada oración. Cada oración se separa por '. '\n",
    "textDiv = textString.split(\". \")\n",
    "textDiv     # Muestra el texto dividido en oraciones"
   ]
  },
  {
   "cell_type": "code",
   "execution_count": 2,
   "metadata": {},
   "outputs": [
    {
     "data": {
      "text/plain": [
       "['average', 'temperature', 'Moon']"
      ]
     },
     "execution_count": 2,
     "metadata": {},
     "output_type": "execute_result"
    }
   ],
   "source": [
    "# Step 2: Definir palabras claves a buscar, tales como: average, temperature y distance.\n",
    "#keysText = [\"average\", \"temperature\", \"distance\"]\n",
    "keysText = [\"average\", \"temperature\", \"Moon\"]\n",
    "keysText"
   ]
  },
  {
   "cell_type": "code",
   "execution_count": 3,
   "metadata": {},
   "outputs": [
    {
     "name": "stdout",
     "output_type": "stream",
     "text": [
      "Interesting facts about the Moon\n",
      "The Moon is Earth's only satellite\n",
      "There are several interesting facts about the Moon and how it affects life here on Earth\n",
      "\n",
      "On average, the Moon moves 4cm away from the Earth every year\n",
      "The highest daylight temperature of the Moon is 127 C.\n"
     ]
    }
   ],
   "source": [
    "# Step 3: Crear ciclo que imprime datos de la Luna que estén relacionados con las \n",
    "# palabras clave definidad. Se tiene que recorrer el texto dividido para encontrar \n",
    "# las palabras clave.\n",
    "for sentence in textDiv:\n",
    "    for key in keysText:\n",
    "        if key in sentence:\n",
    "            print(sentence)\n",
    "            break"
   ]
  },
  {
   "cell_type": "code",
   "execution_count": 4,
   "metadata": {},
   "outputs": [
    {
     "name": "stdout",
     "output_type": "stream",
     "text": [
      "Interesting facts about the Moon\n",
      "The Moon is Earth's only satellite\n",
      "There are several interesting facts about the Moon and how it affects life here on Earth\n",
      "\n",
      "On average, the Moon moves 4cm away from the Earth every year\n",
      "The highest daylight temperature of the Moon is 127 Celsius.\n"
     ]
    }
   ],
   "source": [
    "# Step 4: Actualizar el ciclo anterior para cambiar C por Celsius\n",
    "# en la lista de la cadena cortada por oraciones.\n",
    "\n",
    "for sentence in textDiv:\n",
    "    for key in keysText:\n",
    "        if key in sentence:\n",
    "            replacing = sentence.replace(\"C\", \"Celsius\")\n",
    "            print(replacing)\n",
    "            break"
   ]
  },
  {
   "cell_type": "markdown",
   "metadata": {},
   "source": [
    "#### **Problema 2: Formatear cadenas**"
   ]
  },
  {
   "cell_type": "code",
   "execution_count": 5,
   "metadata": {},
   "outputs": [
    {
     "name": "stdout",
     "output_type": "stream",
     "text": [
      " Gravity Facts About Earth\n"
     ]
    }
   ],
   "source": [
    "# Step 1: Definir datos con los que se va a trabajar\n",
    "name = \"Moon\"\n",
    "gravity = 0.00162       # in kms\n",
    "planet = \"Earth\"\n",
    "\n",
    "# Step 2: Crear el título\n",
    "title = \" Gravity Facts about Earth\"\n",
    "print(title.title())"
   ]
  },
  {
   "cell_type": "code",
   "execution_count": 6,
   "metadata": {},
   "outputs": [
    {
     "name": "stdout",
     "output_type": "stream",
     "text": [
      "------------------------------------------------- \n",
      " Planet Name: Earth. \n",
      " Gravity on Moon: 1.6199999999999999 m/s2\n"
     ]
    }
   ],
   "source": [
    "# Step 3: Crear cadena multilínea para el resto de la información\n",
    "# utilizando cadenas f.\n",
    "info = f\"------------------------------------------------- \\n Planet Name: {planet}. \\n Gravity on {name}: {gravity * 1000} m/s2\"\n",
    "print(info)"
   ]
  },
  {
   "cell_type": "code",
   "execution_count": 7,
   "metadata": {},
   "outputs": [
    {
     "name": "stdout",
     "output_type": "stream",
     "text": [
      "  Gravity Facts About Earth \n",
      " ------------------------------------------------- \n",
      " Planet Name: Earth. \n",
      " Gravity on Moon: 1.6199999999999999 m/s2\n"
     ]
    }
   ],
   "source": [
    "# Step 4: Unir la cadena del título y de la info\n",
    "joinTitleInfo = f\" {title.title()} \\n {info}\"\n",
    "print(joinTitleInfo)"
   ]
  },
  {
   "cell_type": "code",
   "execution_count": 8,
   "metadata": {},
   "outputs": [
    {
     "name": "stdout",
     "output_type": "stream",
     "text": [
      "  Gravity Facts About Earth \n",
      " ------------------------------------------------- \n",
      " Planet Name: Earth. \n",
      " Gravity on Moon: 1.6199999999999999 m/s2\n"
     ]
    }
   ],
   "source": [
    "# Step 45: Testear con otros datos\n",
    "name = \"Ganymedes\"\n",
    "gravity = 0.00143       # in kms\n",
    "planet = \"Mars\"\n",
    "\n",
    "print(joinTitleInfo)"
   ]
  },
  {
   "cell_type": "code",
   "execution_count": 9,
   "metadata": {},
   "outputs": [
    {
     "ename": "KeyError",
     "evalue": "'gravity*1000'",
     "output_type": "error",
     "traceback": [
      "\u001b[0;31m---------------------------------------------------------------------------\u001b[0m",
      "\u001b[0;31mKeyError\u001b[0m                                  Traceback (most recent call last)",
      "\u001b[0;32m<ipython-input-9-a8c8caa7aaff>\u001b[0m in \u001b[0;36m<module>\u001b[0;34m\u001b[0m\n\u001b[1;32m      3\u001b[0m \u001b[0;31m# Step 5: Crear una nueva plantilla format\u001b[0m\u001b[0;34m\u001b[0m\u001b[0;34m\u001b[0m\u001b[0;34m\u001b[0m\u001b[0m\n\u001b[1;32m      4\u001b[0m \u001b[0mnewTemplate\u001b[0m \u001b[0;34m=\u001b[0m \u001b[0;34m\" Gravity Facts About {name} \\n ---------------------------------- \\n Planet Name: {planet}. \\n Gravity of {name}: {gravity*1000} m/s2\"\u001b[0m\u001b[0;34m\u001b[0m\u001b[0;34m\u001b[0m\u001b[0m\n\u001b[0;32m----> 5\u001b[0;31m \u001b[0mprint\u001b[0m\u001b[0;34m(\u001b[0m\u001b[0mnewTemplate\u001b[0m\u001b[0;34m.\u001b[0m\u001b[0mformat\u001b[0m\u001b[0;34m(\u001b[0m\u001b[0mname\u001b[0m\u001b[0;34m=\u001b[0m\u001b[0mname\u001b[0m\u001b[0;34m,\u001b[0m \u001b[0mplanet\u001b[0m\u001b[0;34m=\u001b[0m\u001b[0mplanet\u001b[0m\u001b[0;34m,\u001b[0m \u001b[0mgravity\u001b[0m\u001b[0;34m=\u001b[0m\u001b[0mgravity\u001b[0m\u001b[0;34m)\u001b[0m\u001b[0;34m)\u001b[0m\u001b[0;34m\u001b[0m\u001b[0;34m\u001b[0m\u001b[0m\n\u001b[0m",
      "\u001b[0;31mKeyError\u001b[0m: 'gravity*1000'"
     ]
    }
   ],
   "source": [
    "# Anteriormente la cadena f no se puede reasignar es por lo que muestra la misma info\n",
    "# aún cuando se cambió la info\n",
    "# Step 5: Crear una nueva plantilla format\n",
    "newTemplate = \" Gravity Facts About {name} \\n ---------------------------------- \\n Planet Name: {planet}. \\n Gravity of {name}: {gravity*1000} m/s2\"\n",
    "print(newTemplate.format(name=name, planet=planet, gravity=gravity))"
   ]
  },
  {
   "cell_type": "code",
   "execution_count": null,
   "metadata": {},
   "outputs": [
    {
     "name": "stdout",
     "output_type": "stream",
     "text": [
      " Gravity Facts About Ganymedes \n",
      " ---------------------------------- \n",
      " Planet Name: Mars. \n",
      " Gravity of Ganymedes: 1.4300000000000002 m/s2\n"
     ]
    }
   ],
   "source": [
    "# Después de que salió el error esperado, ya que format no permite hacer operaciones.\n",
    "# Step 6: Reasignar el newTemplate\n",
    "newTemplate = \" Gravity Facts About {name} \\n ---------------------------------- \\n Planet Name: {planet}. \\n Gravity of {name}: {gravity} m/s2\"\n",
    "print(newTemplate.format(name=name, planet=planet, gravity=gravity*1000))"
   ]
  }
 ],
 "metadata": {
  "interpreter": {
   "hash": "31f2aee4e71d21fbe5cf8b01ff0e069b9275f58929596ceb00d14d90e3e16cd6"
  },
  "kernelspec": {
   "display_name": "Python 3.8.10 64-bit",
   "language": "python",
   "name": "python3"
  },
  "language_info": {
   "codemirror_mode": {
    "name": "ipython",
    "version": 3
   },
   "file_extension": ".py",
   "mimetype": "text/x-python",
   "name": "python",
   "nbconvert_exporter": "python",
   "pygments_lexer": "ipython3",
   "version": "3.8.10"
  },
  "orig_nbformat": 4
 },
 "nbformat": 4,
 "nbformat_minor": 2
}
