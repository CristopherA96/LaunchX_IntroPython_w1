{
 "cells": [
  {
   "cell_type": "markdown",
   "metadata": {},
   "source": [
    "## **Curso Intro Python**\n",
    "\n",
    "##### Editor: Cristopher Alan\n",
    "##### Fecha: 07/02/2022"
   ]
  },
  {
   "cell_type": "markdown",
   "metadata": {},
   "source": [
    "### Módulo 3: Usar lógica booleana\n",
    "\n",
    "#### **Problema 1:**\n",
    "Se solicita hacer un programa que determine si es necesario enviar una advertencia por el peligro de que un asteroide se acerca a una velocidad muy rápida. Sería peligroso si la velocidad es mayor a 25 km/s."
   ]
  },
  {
   "cell_type": "code",
   "execution_count": 6,
   "metadata": {},
   "outputs": [
    {
     "name": "stdout",
     "output_type": "stream",
     "text": [
      "¡Houston tenemos problemas!, un asteroide con una velocidad de 49 km/s se dirige muy rápido a Tierra.\n"
     ]
    }
   ],
   "source": [
    "# Lo primero que se debe hacer es leer la velocidad del asteroide para determinar\n",
    "# si enviar o no enviar advertencia a la gente en la Tierra.\n",
    "\n",
    "# Step 1: Declarar la variable de la velocidad del asteroide\n",
    "velAsteroide = 49\n",
    "#velAsteroide = float(input(\"Oficial ingrese la velocidad del asteroide según sus cálculos en km/s.\"))\n",
    "\n",
    "# Step 2: Determinar si enviar la advertencia de acuerdo a si la velocidad del asteroide\n",
    "# es mayor que 25 km/s.\n",
    "if (velAsteroide > 25):\n",
    "    print(\"¡Houston tenemos problemas!, un asteroide con una velocidad de\", velAsteroide, \"km/s se dirige muy rápido a Tierra.\")\n",
    "else:\n",
    "    print(\"La velocidad del asteroide de\", velAsteroide, \"km/s no afectará la Tierra.\")"
   ]
  },
  {
   "cell_type": "markdown",
   "metadata": {},
   "source": [
    "#### **Problema 2:**\n",
    "Se solicita determinar si enviar un mensaje a la gente para que vea el rayo de luz cuando un asteroide va a una velocidad mayor o igual a 20 km/s. \n"
   ]
  },
  {
   "cell_type": "code",
   "execution_count": 11,
   "metadata": {},
   "outputs": [
    {
     "name": "stdout",
     "output_type": "stream",
     "text": [
      "Por el momento no hay asteroides que observar en el cielo.\n"
     ]
    }
   ],
   "source": [
    "# Step 1: Declarar la variable de la velocidad del asteroide\n",
    "velAsteroide = 19\n",
    "#velAsteroide = float(input(\"Oficial, ingrese la velocidad del asteroide en km/s\"))\n",
    "\n",
    "# Step 2: Determinar si enviar el mensaje para que vean hacia el cielo el rayo de luz\n",
    "# producido por el paso del asteroide a una velocidad mayor o igual a 20 km/s.\n",
    "if (velAsteroide >= 20):\n",
    "    print(\"Gente en la Tierra miren hacia el cielo, un asteroide esta viajando a una velocidad de \", velAsteroide, \"km/s.\\n ¡¡¡Es fántastico!!!!\")\n",
    "else:\n",
    "    print(\"Por el momento no hay asteroides que observar en el cielo.\")"
   ]
  },
  {
   "cell_type": "markdown",
   "metadata": {},
   "source": [
    "#### **Problema 3:**\n",
    "Ahora se solicita crear un programa que indique si el asteroide es problema para la Tierra de acuerdo a su tamaño y velocidad.\n",
    "* Se considera que si el tamaño del asteroide es mayor que 25 pero menor que 1000 metros es peligroso.\n",
    "* Si la velocidad del asteroide es mayor que 25 km/s es peligroso y se debe enviar una advertencia.\n",
    "* Si el asteroide entra a la atmósfera y su velocidad es mayor o igual a 20 km/s, se debe indicar a la gente que pueden mirar hacia el cielo para ver el rayo de luz que se emite por su paso.\n"
   ]
  },
  {
   "cell_type": "code",
   "execution_count": 1,
   "metadata": {},
   "outputs": [
    {
     "name": "stdout",
     "output_type": "stream",
     "text": [
      "Tamaño del asteroide: 40.0 [m]\n",
      "Velocidad del asteroide: 25.0 [km/s]\n",
      "El asteroide de tamaño 40.0 m es posible verlo, ya que va a una velocidad de 25.0 km/s \n",
      " ¡¡Mira hacia el cielo es fantástico!!\n"
     ]
    }
   ],
   "source": [
    "# Step 1: Solicitar el tamaño y la velocidad del asteroide\n",
    "tamanoAsteroide = float(input(\"Oficial, ingrese el tamaño del asteroide en metros [m].\"))\n",
    "print(\"Tamaño del asteroide:\", tamanoAsteroide, \"[m]\")\n",
    "\n",
    "velAsteroide = float(input(\"Oficial, ingrese la velocidad asteroide en kilómetros por segundo [km/s].\"))\n",
    "print(\"Velocidad del asteroide:\", velAsteroide, \"[km/s]\")\n",
    "\n",
    "# Step 2: Determinar si el tamaño y la velocidad del asteroide son peligro o no para la Tierra.\n",
    "if (25 < tamanoAsteroide < 1000) and (velAsteroide > 25):\n",
    "    print(\"¡¡¡Peligro!!!!\\n Un asteroide de\", tamanoAsteroide, \"m se acerca muy rápido a la Tierra con una velocidad de\", velAsteroide, \"km/s.\")\n",
    "elif(tamanoAsteroide < 25):\n",
    "    print(\"El asteroide de tamaño\", tamanoAsteroide, \"m no es posible verlo, no voltees al cielo.\")\n",
    "elif(velAsteroide >= 20):\n",
    "    print(\"El asteroide de tamaño\", tamanoAsteroide, \"m es posible verlo, ya que va a una velocidad de\", velAsteroide, \"km/s\", \"\\n ¡¡Mira hacia el cielo es fantástico!!\")\n",
    "else:\n",
    "    print(\"El asteroide por el momento no es un peligro.\")\n",
    "\n"
   ]
  }
 ],
 "metadata": {
  "interpreter": {
   "hash": "31f2aee4e71d21fbe5cf8b01ff0e069b9275f58929596ceb00d14d90e3e16cd6"
  },
  "kernelspec": {
   "display_name": "Python 3.8.10 64-bit",
   "language": "python",
   "name": "python3"
  },
  "language_info": {
   "codemirror_mode": {
    "name": "ipython",
    "version": 3
   },
   "file_extension": ".py",
   "mimetype": "text/x-python",
   "name": "python",
   "nbconvert_exporter": "python",
   "pygments_lexer": "ipython3",
   "version": "3.8.10"
  },
  "orig_nbformat": 4
 },
 "nbformat": 4,
 "nbformat_minor": 2
}
